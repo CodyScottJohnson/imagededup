{
 "cells": [
  {
   "cell_type": "code",
   "execution_count": 1,
   "metadata": {},
   "outputs": [],
   "source": [
    "from PIL import Image\n",
    "from imagehash import phash, dhash, average_hash\n",
    "import os\n",
    "import random\n",
    "import shelve\n",
    "from sys import getsizeof\n",
    "from copy import deepcopy"
   ]
  },
  {
   "cell_type": "code",
   "execution_count": 2,
   "metadata": {},
   "outputs": [],
   "source": [
    "def load_image_set(path):\n",
    "    return load_image_sample(path, sample=1.0)\n",
    "\n",
    "def load_image_sample(path, sample): \n",
    "    _docs = {doc: os.path.join(path, doc) for doc in os.listdir(path) if doc.endswith('.jpg')}\n",
    "    return {doc: _docs[doc] for doc in random.sample(_docs.keys(), int(len(_docs)*sample))}\n",
    "\n",
    "def fingerprint_images(images):\n",
    "    return {img: str(dhash(Image.open(images[img]))) for img in images}"
   ]
  },
  {
   "cell_type": "code",
   "execution_count": 3,
   "metadata": {},
   "outputs": [],
   "source": [
    "query_set = load_image_set('/Users/zubin.john/forge/image-dedup/Transformed_dataset/Query/')\n",
    "test_set = load_image_set('/Users/zubin.john/forge/image-dedup/Transformed_dataset/Retrieval/')"
   ]
  },
  {
   "cell_type": "code",
   "execution_count": 4,
   "metadata": {},
   "outputs": [],
   "source": [
    "test_hashes = fingerprint_images(test_set)\n",
    "query_hashes = fingerprint_images(query_set)"
   ]
  },
  {
   "cell_type": "code",
   "execution_count": 7,
   "metadata": {},
   "outputs": [],
   "source": [
    "# Create a reverse-lookup dictionary (inverted index) to map fingerprints to images\n",
    "\n",
    "image_hashes = deepcopy(test_hashes)\n",
    "image_hashes.update(query_hashes)\n",
    "getsizeof(image_hashes)\n",
    "\n",
    "hashed_images = {image_hashes[image]: image for image in image_hashes}"
   ]
  },
  {
   "cell_type": "code",
   "execution_count": 8,
   "metadata": {},
   "outputs": [],
   "source": [
    "# Instantiate a custom-object database\n",
    "db = shelve.open('../Transformed_dataset/imageset', writeback = True)\n",
    "\n",
    "# Add all images in our dataset to the document index \n",
    "for each in image_hashes:\n",
    "    db[image_hashes[each]] = db.get(image_hashes[each], []) + [each]\n",
    "\n",
    "# Close the shelf database\n",
    "db.close()"
   ]
  },
  {
   "cell_type": "code",
   "execution_count": 15,
   "metadata": {},
   "outputs": [],
   "source": [
    "db = shelve.open('../Transformed_dataset/imageset')\n",
    "R = {hashed_images[query]: db[query][:5] for query in query_hashes.values()}\n",
    "db.close()"
   ]
  }
 ],
 "metadata": {
  "kernelspec": {
   "display_name": "Python 3",
   "language": "python",
   "name": "python3"
  },
  "language_info": {
   "codemirror_mode": {
    "name": "ipython",
    "version": 3
   },
   "file_extension": ".py",
   "mimetype": "text/x-python",
   "name": "python",
   "nbconvert_exporter": "python",
   "pygments_lexer": "ipython3",
   "version": "3.6.4"
  }
 },
 "nbformat": 4,
 "nbformat_minor": 2
}
